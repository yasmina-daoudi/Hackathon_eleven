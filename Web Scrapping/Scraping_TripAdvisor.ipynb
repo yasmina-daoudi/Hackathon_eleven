{
 "cells": [
  {
   "cell_type": "code",
   "execution_count": 179,
   "metadata": {},
   "outputs": [],
   "source": [
    "import sys\n",
    "import csv\n",
    "from selenium import webdriver\n",
    "from selenium.common.exceptions import NoSuchElementException\n",
    "from selenium.common.exceptions import StaleElementReferenceException\n",
    "from selenium.webdriver.common.by import By\n",
    "from selenium.webdriver.support.ui import WebDriverWait\n",
    "from selenium.webdriver.support import expected_conditions\n",
    "import time\n",
    "import pandas as pd"
   ]
  },
  {
   "cell_type": "code",
   "execution_count": 193,
   "metadata": {},
   "outputs": [],
   "source": [
    "# Initializing global parameters\n",
    "# I initialize and close the driver separately for each airline due to changes in the DOM\n",
    "\n",
    "num_pages = 100\n",
    "airlines_list = [\"air-france\",\"klm\",\"ryanair\",\"hop\",\"emirates\",\"lufthansa\",\"swiss-intl-air\",\"austrian-airlines\",\"british-airways\",\"virgin-atlantic-airways\",\"aeroflot\",\"iberia\",\"turkish-airlines\"]\n"
   ]
  },
  {
   "cell_type": "code",
   "execution_count": 194,
   "metadata": {},
   "outputs": [],
   "source": [
    "urls = {\n",
    "        \"air-france\":\"https://www.tripadvisor.com/Airline_Review-d8729003-Reviews-Air-France\",\n",
    "        \"klm\":\"https://www.tripadvisor.com/Airline_Review-d8729104-Reviews-KLM-Royal-Dutch-Airlines\",\n",
    "        \"ryanair\":\"https://www.tripadvisor.com/Airline_Review-d8729141-Reviews-Ryanair\",\n",
    "        \"hop\":\"https://www.tripadvisor.com/Airline_Review-d8728906-Reviews-HOP\",\n",
    "        \"emirates\":\"https://www.tripadvisor.com/Airline_Review-d8729069-Reviews-Emirates\",\n",
    "        \"lufthansa\":\"https://www.tripadvisor.com/Airline_Review-d8729113-Reviews-Lufthansa\",\n",
    "        \"swiss-intl-air\":\"https://www.tripadvisor.com/Airline_Review-d8729160-Reviews-Swiss-International-Air-Lines-SWISS\",\n",
    "        \"austrian-airlines\":\"https://www.tripadvisor.com/Airline_Review-d8729027-Reviews-Austrian-Airlines\",\n",
    "        \"british-airways\":\"https://www.tripadvisor.com/Airline_Review-d8729039-Reviews-British-Airways\",\n",
    "        \"virgin-atlantic-airways\":\"https://www.tripadvisor.com/Airline_Review-d8729182-Reviews-Virgin-Atlantic-Airways\",\n",
    "        \"aeroflot\":\"https://www.tripadvisor.com/Airline_Review-d8728987-Reviews-Aeroflot\",\n",
    "        \"iberia\":\"https://www.tripadvisor.com/Airline_Review-d8729089-Reviews-Iberia\",\n",
    "        \"turkish-airlines\":\"https://www.tripadvisor.com/Airline_Review-d8729174-Reviews-Turkish-Airlines\"\n",
    "       }\n",
    "        "
   ]
  },
  {
   "cell_type": "code",
   "execution_count": 195,
   "metadata": {},
   "outputs": [],
   "source": [
    "def get_reviews(airline, num_pages): \n",
    "    driver = webdriver.Chrome(executable_path='C:/chromedriver.exe')\n",
    "    driver.get(urls[airline])\n",
    "    reviews=[]\n",
    "    for i in range(num_pages):\n",
    "        \n",
    "        #To allow the page to load before the code runs\n",
    "        time.sleep(2)\n",
    "        \n",
    "        #To accept cookies\n",
    "        try:\n",
    "            driver.find_element_by_xpath('.//button[@class=\"evidon-banner-acceptbutton\"]').click()\n",
    "        except:\n",
    "            pass\n",
    "        \n",
    "        #To expand \"Read More\"\n",
    "        try:\n",
    "            driver.find_element_by_xpath(\"//span[@class='_3maEfNCR']\").click()\n",
    "        except:\n",
    "            pass\n",
    "        \n",
    "        reviews_scraped = driver.find_elements_by_class_name(\"cPQsENeY\")\n",
    "        \n",
    "        #To collect all reviews in a page in a list\n",
    "        for review in reviews_scraped[1:]:\n",
    "            reviews.append(review.text.replace(\"\\n\", \"  \"))\n",
    "            \n",
    "        #To navigate to the next page        \n",
    "        try:\n",
    "            driver.find_element_by_xpath('.//a[@class=\"ui_button nav next primary \"]').click()\n",
    "        except:\n",
    "            break\n",
    "        \n",
    "    driver.close()\n",
    "    review_df = pd.DataFrame(reviews)\n",
    "    return review_df"
   ]
  },
  {
   "cell_type": "code",
   "execution_count": 196,
   "metadata": {
    "scrolled": true
   },
   "outputs": [],
   "source": [
    "for airline in airlines_list:\n",
    "    df = get_reviews(airline, num_pages)\n",
    "    df['airline'] = airline\n",
    "    df.columns = ['review', 'airline']\n",
    "    #print(df.head())\n",
    "    df.to_csv('TripAdvisor_' + airline + '.csv', sep='|', index = False)"
   ]
  },
  {
   "cell_type": "code",
   "execution_count": 198,
   "metadata": {},
   "outputs": [
    {
     "name": "stdout",
     "output_type": "stream",
     "text": [
      "['.\\\\TripAdvisor_aeroflot.csv', '.\\\\TripAdvisor_air-france.csv', '.\\\\TripAdvisor_austrian-airlines.csv', '.\\\\TripAdvisor_british-airways.csv', '.\\\\TripAdvisor_emirates.csv', '.\\\\TripAdvisor_hop.csv', '.\\\\TripAdvisor_iberia.csv', '.\\\\TripAdvisor_klm.csv', '.\\\\TripAdvisor_lufthansa.csv', '.\\\\TripAdvisor_ryanair.csv', '.\\\\TripAdvisor_swiss-intl-air.csv', '.\\\\TripAdvisor_turkish-airlines.csv', '.\\\\TripAdvisor_virgin-atlantic-airways.csv']\n",
      ".\\TripAdvisor_aeroflot.csv\n",
      ".\\TripAdvisor_air-france.csv\n",
      ".\\TripAdvisor_austrian-airlines.csv\n",
      ".\\TripAdvisor_british-airways.csv\n",
      ".\\TripAdvisor_emirates.csv\n",
      ".\\TripAdvisor_hop.csv\n",
      ".\\TripAdvisor_iberia.csv\n",
      ".\\TripAdvisor_klm.csv\n",
      ".\\TripAdvisor_lufthansa.csv\n",
      ".\\TripAdvisor_ryanair.csv\n",
      ".\\TripAdvisor_swiss-intl-air.csv\n",
      ".\\TripAdvisor_turkish-airlines.csv\n",
      ".\\TripAdvisor_virgin-atlantic-airways.csv\n"
     ]
    }
   ],
   "source": [
    "import glob\n",
    "import os\n",
    "path = r\".\"                     # use your path\n",
    "all_files = glob.glob(os.path.join(path, \"*.csv\"))     # advisable to use os.path.join as this makes concatenation OS independent\n",
    "print(all_files)\n",
    "li = []\n",
    "for filename in all_files:\n",
    "    print(filename)\n",
    "    df = pd.read_csv(filename, sep=\"|\")\n",
    "    li.append(df)\n",
    "\n",
    "frame = pd.concat(li, axis=0, ignore_index=True)"
   ]
  },
  {
   "cell_type": "code",
   "execution_count": 200,
   "metadata": {},
   "outputs": [],
   "source": [
    "frame.columns = [ 'review', 'airline']\n",
    "frame.to_csv(\"TripAdvisor_merged.csv\", sep='|')"
   ]
  }
 ],
 "metadata": {
  "kernelspec": {
   "display_name": "Python 3",
   "language": "python",
   "name": "python3"
  },
  "language_info": {
   "codemirror_mode": {
    "name": "ipython",
    "version": 3
   },
   "file_extension": ".py",
   "mimetype": "text/x-python",
   "name": "python",
   "nbconvert_exporter": "python",
   "pygments_lexer": "ipython3",
   "version": "3.7.4"
  }
 },
 "nbformat": 4,
 "nbformat_minor": 2
}
