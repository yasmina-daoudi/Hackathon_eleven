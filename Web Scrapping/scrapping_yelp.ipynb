{
 "metadata": {
  "language_info": {
   "codemirror_mode": {
    "name": "ipython",
    "version": 3
   },
   "file_extension": ".py",
   "mimetype": "text/x-python",
   "name": "python",
   "nbconvert_exporter": "python",
   "pygments_lexer": "ipython3",
   "version": "3.7.4-final"
  },
  "orig_nbformat": 2,
  "kernelspec": {
   "name": "python3",
   "display_name": "Python 3",
   "language": "python"
  }
 },
 "nbformat": 4,
 "nbformat_minor": 2,
 "cells": [
  {
   "cell_type": "code",
   "execution_count": 55,
   "metadata": {},
   "outputs": [],
   "source": [
    "import time\n",
    "from selenium import webdriver\n",
    "from selenium.webdriver.chrome.options import Options\n",
    "import pandas as pd\n",
    "\n",
    "\n",
    "options = Options()\n",
    "options.headless = True\n",
    "options.add_argument(\"--window-size=1920,1200\")\n",
    "\n",
    "driver = webdriver.Chrome(executable_path='C:/Code/chromedriver/chromedriver.exe')"
   ]
  },
  {
   "cell_type": "code",
   "execution_count": 91,
   "metadata": {},
   "outputs": [],
   "source": [
    "def get_reviews(driver):\n",
    "    comments = driver.find_elements_by_class_name('raw__373c0__3rcx7')\n",
    "\n",
    "    comments_text = []\n",
    "    for comment in comments:\n",
    "        comments_text.append(comment.text)\n",
    "\n",
    "    return comments_text[5:]"
   ]
  },
  {
   "cell_type": "code",
   "execution_count": 92,
   "metadata": {},
   "outputs": [],
   "source": [
    "def extract_comments(driver, link, num_pages):\n",
    "    driver.get(link);\n",
    "    time.sleep(5) \n",
    "    \n",
    "    csv = pd.DataFrame(get_reviews(driver))\n",
    "\n",
    "    for i in range(num_pages-1):\n",
    "        button = driver.find_element_by_xpath('/html/body/div[@*]/div[@*]/yelp-react-root/div/div[@*]/div/div/div[@*]/div/div[@*]/div[@*]/section[@*]/div[@*]/div/div[@*]/div[@*]/div/div[last()]/span/a')\n",
    "        button.click()\n",
    "\n",
    "        time.sleep(5)\n",
    "\n",
    "        csv_new_page = pd.DataFrame(get_reviews(driver))\n",
    "        csv = pd.concat([csv, csv_new_page], ignore_index=True)\n",
    "        \n",
    "    return csv"
   ]
  },
  {
   "cell_type": "code",
   "execution_count": 87,
   "metadata": {},
   "outputs": [],
   "source": [
    "links = {\n",
    "    'air-france': 'https://www.yelp.com/biz/air-france-san-francisco', \n",
    "     #'hop': '',\n",
    "    'klm-royal-dutch-airlines': 'https://www.yelp.com/biz/klm-royal-dutch-airlines-amstelveen',\n",
    "     #'transavia': '',\n",
    "    'lufthansa': 'https://www.yelp.com/biz/lufthansa-frankfurt-am-main-3',\n",
    "    #'swiss-international-air-lines': '',\n",
    "    'ryanair': 'https://www.yelp.com/biz/ryanair-dublin',\n",
    "    'easyjet': 'https://www.yelp.com/biz/easyjet-luton',\n",
    "    'british-airways': 'https://www.yelp.com/biz/british-airways-west-drayton',\n",
    "    #'iberia': '',\n",
    "    'vueling-airlines': 'https://www.yelp.com/biz/vueling-barcelona',\n",
    "    #'level': '',\n",
    "    'singapore-airlines': 'https://www.yelp.com/biz/singapore-airlines-san-francisco-7',\n",
    "    #'qatar-airways': '',\n",
    "    #'emirates': '',\n",
    "    'american-airlines': 'https://www.yelp.com/biz/american-airlines-los-angeles-5',\n",
    "    'united': 'https://www.yelp.com/biz/united-airlines-los-angeles-5',\n",
    "    'southwest' : 'https://www.yelp.com/biz/southwest-airlines-chicago-2'\n",
    "}"
   ]
  },
  {
   "cell_type": "code",
   "execution_count": 104,
   "metadata": {},
   "outputs": [],
   "source": [
    "# It is ideal to manually input the desired airline and number of pages\n",
    "# According to the quantity of available reviews + the desire of maintenance\n",
    "airline = 'southwest'\n",
    "df = extract_comments(driver, links[airline], 10)\n",
    "\n",
    "df['airline'] = airline\n",
    "df.columns = ['review', 'airline']\n",
    "df.to_csv('yelp_' + airline + '.csv', sep='|')\n"
   ]
  },
  {
   "cell_type": "code",
   "execution_count": 105,
   "metadata": {},
   "outputs": [],
   "source": [
    "driver.quit()"
   ]
  },
  {
   "source": [
    "After generation of the desired extractions, the data can be merged into a single dataframe if needed. "
   ],
   "cell_type": "markdown",
   "metadata": {}
  },
  {
   "cell_type": "code",
   "execution_count": 113,
   "metadata": {},
   "outputs": [
    {
     "output_type": "stream",
     "name": "stdout",
     "text": [
      "['.\\\\yelp_air-france.csv', '.\\\\yelp_american-airlines.csv', '.\\\\yelp_british-airways.csv', '.\\\\yelp_easyjet.csv', '.\\\\yelp_klm-royal-dutch-airlines.csv', '.\\\\yelp_lufthansa.csv', '.\\\\yelp_ryanair.csv', '.\\\\yelp_singapore-airlines.csv', '.\\\\yelp_southwest.csv', '.\\\\yelp_united.csv', '.\\\\yelp_vueling-airlines.csv']\n",
      ".\\yelp_air-france.csv\n",
      ".\\yelp_american-airlines.csv\n",
      ".\\yelp_british-airways.csv\n",
      ".\\yelp_easyjet.csv\n",
      ".\\yelp_klm-royal-dutch-airlines.csv\n",
      ".\\yelp_lufthansa.csv\n",
      ".\\yelp_ryanair.csv\n",
      ".\\yelp_singapore-airlines.csv\n",
      ".\\yelp_southwest.csv\n",
      ".\\yelp_united.csv\n",
      ".\\yelp_vueling-airlines.csv\n"
     ]
    }
   ],
   "source": [
    "import glob\n",
    "path = r\".\"                     # use your path\n",
    "all_files = glob.glob(os.path.join(path, \"*.csv\"))     # advisable to use os.path.join as this makes concatenation OS independent\n",
    "print(all_files)\n",
    "li = []\n",
    "for filename in all_files:\n",
    "    print(filename)\n",
    "    df = pd.read_csv(filename, sep=\"|\")\n",
    "    li.append(df)\n",
    "\n",
    "frame = pd.concat(li, axis=0, ignore_index=True)"
   ]
  },
  {
   "cell_type": "code",
   "execution_count": 118,
   "metadata": {},
   "outputs": [],
   "source": [
    "frame.columns = ['original_id', 'review', 'airline']\n",
    "output = frame.drop(['original_id'], axis=1)\n",
    "output.to_csv(\"yelp_merged.csv\", sep='|')"
   ]
  },
  {
   "cell_type": "code",
   "execution_count": null,
   "metadata": {},
   "outputs": [],
   "source": []
  }
 ]
}