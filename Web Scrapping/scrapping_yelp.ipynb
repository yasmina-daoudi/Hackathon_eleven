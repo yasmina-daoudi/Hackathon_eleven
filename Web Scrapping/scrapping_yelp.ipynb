{
 "metadata": {
  "language_info": {
   "codemirror_mode": {
    "name": "ipython",
    "version": 3
   },
   "file_extension": ".py",
   "mimetype": "text/x-python",
   "name": "python",
   "nbconvert_exporter": "python",
   "pygments_lexer": "ipython3",
   "version": "3.7.4-final"
  },
  "orig_nbformat": 2,
  "kernelspec": {
   "name": "python3",
   "display_name": "Python 3",
   "language": "python"
  }
 },
 "nbformat": 4,
 "nbformat_minor": 2,
 "cells": [
  {
   "cell_type": "code",
   "execution_count": 55,
   "metadata": {},
   "outputs": [],
   "source": [
    "import time\n",
    "from selenium import webdriver\n",
    "from selenium.webdriver.chrome.options import Options\n",
    "import pandas as pd\n",
    "\n",
    "\n",
    "options = Options()\n",
    "options.headless = True\n",
    "options.add_argument(\"--window-size=1920,1200\")\n",
    "\n",
    "driver = webdriver.Chrome(executable_path='C:/Code/chromedriver/chromedriver.exe')"
   ]
  },
  {
   "cell_type": "code",
   "execution_count": 85,
   "metadata": {},
   "outputs": [],
   "source": [
    "def get_reviews(driver):\n",
    "    comments = driver.find_elements_by_class_name('raw__373c0__3rcx7')\n",
    "\n",
    "    comments_text = []\n",
    "    for comment in comments:\n",
    "        comments_text.append(comment.text)\n",
    "\n",
    "    return comments_text[5:]"
   ]
  },
  {
   "cell_type": "code",
   "execution_count": 86,
   "metadata": {},
   "outputs": [],
   "source": [
    "def extract_comments(driver, link, num_pages):\n",
    "    driver.get(link);\n",
    "    time.sleep(5) \n",
    "    \n",
    "    csv = pd.DataFrame(get_reviews(driver))\n",
    "\n",
    "    for i in range(num_pages-1):\n",
    "        button = driver.find_element_by_xpath('/html/body/div[@*]/div[@*]/yelp-react-root/div/div[@*]/div/div/div[@*]/div/div[@*]/div[@*]/section[@*]/div[@*]/div/div[@*]/div[@*]/div/div[last()]/span/a')\n",
    "        button.click()\n",
    "\n",
    "        time.sleep(5)\n",
    "\n",
    "        csv_new_page = pd.DataFrame(get_reviews(driver))\n",
    "        csv = pd.concat([csv, csv_new_page], ignore_index=True)\n",
    "        \n",
    "    return csv"
   ]
  },
  {
   "cell_type": "code",
   "execution_count": 87,
   "metadata": {},
   "outputs": [],
   "source": [
    "links = {\n",
    "    'air-france': 'https://www.yelp.com/biz/air-france-san-francisco', \n",
    "     #'hop': '',\n",
    "    'klm-royal-dutch-airlines': 'https://www.yelp.com/biz/klm-royal-dutch-airlines-amstelveen',\n",
    "     #'transavia': '',\n",
    "    'lufthansa': 'https://www.yelp.com/biz/lufthansa-frankfurt-am-main-3',\n",
    "    #'swiss-international-air-lines': '',\n",
    "    'ryanair': 'https://www.yelp.com/biz/ryanair-dublin',\n",
    "    'easyjet': 'https://www.yelp.com/biz/easyjet-luton',\n",
    "    'british-airways': 'https://www.yelp.com/biz/british-airways-west-drayton',\n",
    "    #'iberia': '',\n",
    "    'vueling-airlines': 'https://www.yelp.com/biz/vueling-barcelona',\n",
    "    #'level': '',\n",
    "    'singapore-airlines': 'https://www.yelp.com/biz/singapore-airlines-san-francisco-7',\n",
    "    #'qatar-airways': '',\n",
    "    #'emirates': '',\n",
    "    'american-airlines': 'https://www.yelp.com/biz/american-airlines-los-angeles-5',\n",
    "    'united': 'https://www.yelp.com/biz/united-airlines-los-angeles-5',\n",
    "    'southwest' : 'https://www.yelp.com/biz/southwest-airlines-chicago-2'\n",
    "}"
   ]
  },
  {
   "cell_type": "code",
   "execution_count": 88,
   "metadata": {},
   "outputs": [
    {
     "output_type": "stream",
     "name": "stdout",
     "text": [
      "0\n",
      "                                                    0\n",
      "0   SW just pulled a heavy five stars for their pe...\n",
      "1   Review #182 - 2020\\n\\nWe've flown Southwest fo...\n",
      "2   Southwest Airlines is the easiest way to fly f...\n",
      "3   I am a far cry from reaching my goal of review...\n",
      "4   Five stars, all the way. I am that person that...\n",
      "5   As a loyal customer I am very disappointed!  T...\n",
      "6   Southwest has lost my business for good.  they...\n",
      "7   Same old southwest BS customer service.   Avoi...\n",
      "8   I am utterly disappointed in Southwest's contr...\n",
      "9   Ended up here as a transfer flight headed to L...\n",
      "10  Their website says, \"We like to think of ourse...\n",
      "11  Southwest customer service is very disappointi...\n",
      "12  Ok, ok. ..I take it back. Midway Airport aka S...\n",
      "13  One security gate, one cainine. ..one f*** hot...\n",
      "14  Disappointing experience.  They placed my lugg...\n",
      "15  Southwest Airlines is a racist airline. They k...\n",
      "16  Um I just called southwest because I'm unable ...\n",
      "17  Wow... just accosted by an airline employee fo...\n",
      "18  My family like many others have had to cancel ...\n",
      "19  The most fair airline to the consumer. You can...\n",
      "20  The airline will not refund or credit the Earl...\n",
      "21  I ride Southwest Airlines often, and I am stil...\n",
      "1\n",
      "                                                    0\n",
      "0   SW just pulled a heavy five stars for their pe...\n",
      "1   Review #182 - 2020\\n\\nWe've flown Southwest fo...\n",
      "2   Southwest Airlines is the easiest way to fly f...\n",
      "3   I am a far cry from reaching my goal of review...\n",
      "4   Five stars, all the way. I am that person that...\n",
      "5   As a loyal customer I am very disappointed!  T...\n",
      "6   Southwest has lost my business for good.  they...\n",
      "7   Same old southwest BS customer service.   Avoi...\n",
      "8   I am utterly disappointed in Southwest's contr...\n",
      "9   Ended up here as a transfer flight headed to L...\n",
      "10  Their website says, \"We like to think of ourse...\n",
      "11  Southwest customer service is very disappointi...\n",
      "12  Ok, ok. ..I take it back. Midway Airport aka S...\n",
      "13  One security gate, one cainine. ..one f*** hot...\n",
      "14  Disappointing experience.  They placed my lugg...\n",
      "15  Southwest Airlines is a racist airline. They k...\n",
      "16  Um I just called southwest because I'm unable ...\n",
      "17  Wow... just accosted by an airline employee fo...\n",
      "18  My family like many others have had to cancel ...\n",
      "19  The most fair airline to the consumer. You can...\n",
      "20  The airline will not refund or credit the Earl...\n",
      "21  I ride Southwest Airlines often, and I am stil...\n",
      "22  SW just pulled a heavy five stars for their pe...\n",
      "23  Review #182 - 2020\\n\\nWe've flown Southwest fo...\n",
      "24  Southwest Airlines is the easiest way to fly f...\n",
      "25  I am a far cry from reaching my goal of review...\n",
      "26  Five stars, all the way. I am that person that...\n",
      "27  As a loyal customer I am very disappointed!  T...\n",
      "28  Southwest has lost my business for good.  they...\n",
      "29  Same old southwest BS customer service.   Avoi...\n",
      "30  I am utterly disappointed in Southwest's contr...\n",
      "31  Ended up here as a transfer flight headed to L...\n",
      "32  Their website says, \"We like to think of ourse...\n",
      "33  Southwest customer service is very disappointi...\n",
      "34  Ok, ok. ..I take it back. Midway Airport aka S...\n",
      "35  One security gate, one cainine. ..one f*** hot...\n",
      "36  Disappointing experience.  They placed my lugg...\n",
      "37  Southwest Airlines is a racist airline. They k...\n",
      "38  Um I just called southwest because I'm unable ...\n",
      "39  Wow... just accosted by an airline employee fo...\n",
      "40  My family like many others have had to cancel ...\n",
      "41  The most fair airline to the consumer. You can...\n",
      "42  The airline will not refund or credit the Earl...\n",
      "43  I ride Southwest Airlines often, and I am stil...\n",
      "2\n",
      "                                                    0\n",
      "0   SW just pulled a heavy five stars for their pe...\n",
      "1   Review #182 - 2020\\n\\nWe've flown Southwest fo...\n",
      "2   Southwest Airlines is the easiest way to fly f...\n",
      "3   I am a far cry from reaching my goal of review...\n",
      "4   Five stars, all the way. I am that person that...\n",
      "..                                                ...\n",
      "60  First time I flew SWA was on Halloween! Long e...\n",
      "61  I always find Southwest to be dependable which...\n",
      "62  I always find Southwest to be dependable which...\n",
      "63  Southwest used to be a lot cheaper to fly but ...\n",
      "64  Horrible to small children not required legall...\n",
      "\n",
      "[65 rows x 1 columns]\n",
      "3\n",
      "                                                    0\n",
      "0   SW just pulled a heavy five stars for their pe...\n",
      "1   Review #182 - 2020\\n\\nWe've flown Southwest fo...\n",
      "2   Southwest Airlines is the easiest way to fly f...\n",
      "3   I am a far cry from reaching my goal of review...\n",
      "4   Five stars, all the way. I am that person that...\n",
      "..                                                ...\n",
      "80  Well not sure where to start. Booked are whole...\n",
      "81  After taking Southwest many times, I understan...\n",
      "82  Great flight from Chicago to Vegas. Good deals...\n",
      "83  I love flying southwest.  Everytime I fly anot...\n",
      "84  My layover inChicago (MDW) to DC (DCA) was one...\n",
      "\n",
      "[85 rows x 1 columns]\n"
     ]
    }
   ],
   "source": [
    "airline = 'southwest'\n",
    "df = extract_comments(driver, links[airline], 5)"
   ]
  },
  {
   "cell_type": "code",
   "execution_count": 84,
   "metadata": {},
   "outputs": [
    {
     "output_type": "execute_result",
     "data": {
      "text/plain": [
       "                                                    0\n",
       "0                                   5700 S Cicero Ave\n",
       "1                                   Chicago, IL 60607\n",
       "2   Yelp users haven’t asked any questions yet abo...\n",
       "3   Your trust is our top concern, so businesses c...\n",
       "4            Start your review of Southwest Airlines.\n",
       "5   SW just pulled a heavy five stars for their pe...\n",
       "6   Review #182 - 2020\\n\\nWe've flown Southwest fo...\n",
       "7   Southwest Airlines is the easiest way to fly f...\n",
       "8   I am a far cry from reaching my goal of review...\n",
       "9   Five stars, all the way. I am that person that...\n",
       "10  As a loyal customer I am very disappointed!  T...\n",
       "11  Southwest has lost my business for good.  they...\n",
       "12  Same old southwest BS customer service.   Avoi...\n",
       "13  I am utterly disappointed in Southwest's contr...\n",
       "14  Ended up here as a transfer flight headed to L...\n",
       "15  Their website says, \"We like to think of ourse...\n",
       "16  Southwest customer service is very disappointi...\n",
       "17  Ok, ok. ..I take it back. Midway Airport aka S...\n",
       "18  One security gate, one cainine. ..one f*** hot...\n",
       "19  Disappointing experience.  They placed my lugg...\n",
       "20  Southwest Airlines is a racist airline. They k...\n",
       "21  Um I just called southwest because I'm unable ...\n",
       "22  Wow... just accosted by an airline employee fo...\n",
       "23  My family like many others have had to cancel ...\n",
       "24  The most fair airline to the consumer. You can...\n",
       "25  The airline will not refund or credit the Earl...\n",
       "26  I ride Southwest Airlines often, and I am stil..."
      ],
      "text/html": "<div>\n<style scoped>\n    .dataframe tbody tr th:only-of-type {\n        vertical-align: middle;\n    }\n\n    .dataframe tbody tr th {\n        vertical-align: top;\n    }\n\n    .dataframe thead th {\n        text-align: right;\n    }\n</style>\n<table border=\"1\" class=\"dataframe\">\n  <thead>\n    <tr style=\"text-align: right;\">\n      <th></th>\n      <th>0</th>\n    </tr>\n  </thead>\n  <tbody>\n    <tr>\n      <th>0</th>\n      <td>5700 S Cicero Ave</td>\n    </tr>\n    <tr>\n      <th>1</th>\n      <td>Chicago, IL 60607</td>\n    </tr>\n    <tr>\n      <th>2</th>\n      <td>Yelp users haven’t asked any questions yet abo...</td>\n    </tr>\n    <tr>\n      <th>3</th>\n      <td>Your trust is our top concern, so businesses c...</td>\n    </tr>\n    <tr>\n      <th>4</th>\n      <td>Start your review of Southwest Airlines.</td>\n    </tr>\n    <tr>\n      <th>5</th>\n      <td>SW just pulled a heavy five stars for their pe...</td>\n    </tr>\n    <tr>\n      <th>6</th>\n      <td>Review #182 - 2020\\n\\nWe've flown Southwest fo...</td>\n    </tr>\n    <tr>\n      <th>7</th>\n      <td>Southwest Airlines is the easiest way to fly f...</td>\n    </tr>\n    <tr>\n      <th>8</th>\n      <td>I am a far cry from reaching my goal of review...</td>\n    </tr>\n    <tr>\n      <th>9</th>\n      <td>Five stars, all the way. I am that person that...</td>\n    </tr>\n    <tr>\n      <th>10</th>\n      <td>As a loyal customer I am very disappointed!  T...</td>\n    </tr>\n    <tr>\n      <th>11</th>\n      <td>Southwest has lost my business for good.  they...</td>\n    </tr>\n    <tr>\n      <th>12</th>\n      <td>Same old southwest BS customer service.   Avoi...</td>\n    </tr>\n    <tr>\n      <th>13</th>\n      <td>I am utterly disappointed in Southwest's contr...</td>\n    </tr>\n    <tr>\n      <th>14</th>\n      <td>Ended up here as a transfer flight headed to L...</td>\n    </tr>\n    <tr>\n      <th>15</th>\n      <td>Their website says, \"We like to think of ourse...</td>\n    </tr>\n    <tr>\n      <th>16</th>\n      <td>Southwest customer service is very disappointi...</td>\n    </tr>\n    <tr>\n      <th>17</th>\n      <td>Ok, ok. ..I take it back. Midway Airport aka S...</td>\n    </tr>\n    <tr>\n      <th>18</th>\n      <td>One security gate, one cainine. ..one f*** hot...</td>\n    </tr>\n    <tr>\n      <th>19</th>\n      <td>Disappointing experience.  They placed my lugg...</td>\n    </tr>\n    <tr>\n      <th>20</th>\n      <td>Southwest Airlines is a racist airline. They k...</td>\n    </tr>\n    <tr>\n      <th>21</th>\n      <td>Um I just called southwest because I'm unable ...</td>\n    </tr>\n    <tr>\n      <th>22</th>\n      <td>Wow... just accosted by an airline employee fo...</td>\n    </tr>\n    <tr>\n      <th>23</th>\n      <td>My family like many others have had to cancel ...</td>\n    </tr>\n    <tr>\n      <th>24</th>\n      <td>The most fair airline to the consumer. You can...</td>\n    </tr>\n    <tr>\n      <th>25</th>\n      <td>The airline will not refund or credit the Earl...</td>\n    </tr>\n    <tr>\n      <th>26</th>\n      <td>I ride Southwest Airlines often, and I am stil...</td>\n    </tr>\n  </tbody>\n</table>\n</div>"
     },
     "metadata": {},
     "execution_count": 84
    }
   ],
   "source": [
    "df"
   ]
  },
  {
   "cell_type": "code",
   "execution_count": 89,
   "metadata": {},
   "outputs": [],
   "source": [
    "\n",
    "df['airline'] = airline\n",
    "df.columns = ['review', 'airline']\n",
    "df.to_csv('yelp_' + airline + '.csv', sep='|')"
   ]
  },
  {
   "cell_type": "code",
   "execution_count": 52,
   "metadata": {},
   "outputs": [
    {
     "output_type": "error",
     "ename": "NoSuchElementException",
     "evalue": "Message: no such element: Unable to locate element: {\"method\":\"xpath\",\"selector\":\"//*[@id=\"wrap\"]/div[3]/yelp-react-root/div/div[3]/div/div/div[2]/div/div[1]/div[2]/section[2]/div[2]/div/div[4]/div[1]/div/div[11]/span/a\"}\n  (Session info: headless chrome=88.0.4324.150)\n",
     "traceback": [
      "\u001b[1;31m---------------------------------------------------------------------------\u001b[0m",
      "\u001b[1;31mNoSuchElementException\u001b[0m                    Traceback (most recent call last)",
      "\u001b[1;32m<ipython-input-52-bf98b3831406>\u001b[0m in \u001b[0;36m<module>\u001b[1;34m\u001b[0m\n\u001b[0;32m      1\u001b[0m \u001b[1;32mfor\u001b[0m \u001b[0mairline\u001b[0m \u001b[1;32min\u001b[0m \u001b[0mlinks\u001b[0m\u001b[1;33m.\u001b[0m\u001b[0mkeys\u001b[0m\u001b[1;33m(\u001b[0m\u001b[1;33m)\u001b[0m\u001b[1;33m:\u001b[0m\u001b[1;33m\u001b[0m\u001b[1;33m\u001b[0m\u001b[0m\n\u001b[1;32m----> 2\u001b[1;33m     \u001b[0mdf\u001b[0m \u001b[1;33m=\u001b[0m \u001b[0mextract_comments\u001b[0m\u001b[1;33m(\u001b[0m\u001b[0mdriver\u001b[0m\u001b[1;33m,\u001b[0m \u001b[0mlinks\u001b[0m\u001b[1;33m[\u001b[0m\u001b[0mairline\u001b[0m\u001b[1;33m]\u001b[0m\u001b[1;33m,\u001b[0m \u001b[1;36m5\u001b[0m\u001b[1;33m)\u001b[0m\u001b[1;33m\u001b[0m\u001b[1;33m\u001b[0m\u001b[0m\n\u001b[0m\u001b[0;32m      3\u001b[0m     \u001b[0mdf\u001b[0m\u001b[1;33m[\u001b[0m\u001b[1;34m'airline'\u001b[0m\u001b[1;33m]\u001b[0m \u001b[1;33m=\u001b[0m \u001b[0mairline\u001b[0m\u001b[1;33m\u001b[0m\u001b[1;33m\u001b[0m\u001b[0m\n\u001b[0;32m      4\u001b[0m     \u001b[0mdf\u001b[0m\u001b[1;33m.\u001b[0m\u001b[0mcolumns\u001b[0m \u001b[1;33m=\u001b[0m \u001b[1;33m[\u001b[0m\u001b[1;34m'review'\u001b[0m\u001b[1;33m,\u001b[0m \u001b[1;34m'airline'\u001b[0m\u001b[1;33m]\u001b[0m\u001b[1;33m\u001b[0m\u001b[1;33m\u001b[0m\u001b[0m\n\u001b[0;32m      5\u001b[0m     \u001b[0mdf\u001b[0m\u001b[1;33m.\u001b[0m\u001b[0mto_csv\u001b[0m\u001b[1;33m(\u001b[0m\u001b[1;34m'yelp_'\u001b[0m \u001b[1;33m+\u001b[0m \u001b[0mairline\u001b[0m \u001b[1;33m+\u001b[0m \u001b[1;34m'.csv'\u001b[0m\u001b[1;33m,\u001b[0m \u001b[0msep\u001b[0m\u001b[1;33m=\u001b[0m\u001b[1;34m'|'\u001b[0m\u001b[1;33m)\u001b[0m\u001b[1;33m\u001b[0m\u001b[1;33m\u001b[0m\u001b[0m\n",
      "\u001b[1;32m<ipython-input-37-258d5cf5e280>\u001b[0m in \u001b[0;36mextract_comments\u001b[1;34m(driver, link, num_pages)\u001b[0m\n\u001b[0;32m      6\u001b[0m \u001b[1;33m\u001b[0m\u001b[0m\n\u001b[0;32m      7\u001b[0m     \u001b[1;32mfor\u001b[0m \u001b[0mi\u001b[0m \u001b[1;32min\u001b[0m \u001b[0mrange\u001b[0m\u001b[1;33m(\u001b[0m\u001b[0mnum_pages\u001b[0m\u001b[1;33m-\u001b[0m\u001b[1;36m1\u001b[0m\u001b[1;33m)\u001b[0m\u001b[1;33m:\u001b[0m\u001b[1;33m\u001b[0m\u001b[1;33m\u001b[0m\u001b[0m\n\u001b[1;32m----> 8\u001b[1;33m         \u001b[0mbutton\u001b[0m \u001b[1;33m=\u001b[0m \u001b[0mdriver\u001b[0m\u001b[1;33m.\u001b[0m\u001b[0mfind_element_by_xpath\u001b[0m\u001b[1;33m(\u001b[0m\u001b[1;34m'//*[@id=\"wrap\"]/div[3]/yelp-react-root/div/div[3]/div/div/div[2]/div/div[1]/div[2]/section[2]/div[2]/div/div[4]/div[1]/div/div[11]/span/a'\u001b[0m\u001b[1;33m)\u001b[0m\u001b[1;33m\u001b[0m\u001b[1;33m\u001b[0m\u001b[0m\n\u001b[0m\u001b[0;32m      9\u001b[0m         \u001b[0mbutton\u001b[0m\u001b[1;33m.\u001b[0m\u001b[0mclick\u001b[0m\u001b[1;33m(\u001b[0m\u001b[1;33m)\u001b[0m\u001b[1;33m\u001b[0m\u001b[1;33m\u001b[0m\u001b[0m\n\u001b[0;32m     10\u001b[0m \u001b[1;33m\u001b[0m\u001b[0m\n",
      "\u001b[1;32mC:\\ProgramData\\Anaconda3\\lib\\site-packages\\selenium\\webdriver\\remote\\webdriver.py\u001b[0m in \u001b[0;36mfind_element_by_xpath\u001b[1;34m(self, xpath)\u001b[0m\n\u001b[0;32m    392\u001b[0m             \u001b[0melement\u001b[0m \u001b[1;33m=\u001b[0m \u001b[0mdriver\u001b[0m\u001b[1;33m.\u001b[0m\u001b[0mfind_element_by_xpath\u001b[0m\u001b[1;33m(\u001b[0m\u001b[1;34m'//div/td[1]'\u001b[0m\u001b[1;33m)\u001b[0m\u001b[1;33m\u001b[0m\u001b[1;33m\u001b[0m\u001b[0m\n\u001b[0;32m    393\u001b[0m         \"\"\"\n\u001b[1;32m--> 394\u001b[1;33m         \u001b[1;32mreturn\u001b[0m \u001b[0mself\u001b[0m\u001b[1;33m.\u001b[0m\u001b[0mfind_element\u001b[0m\u001b[1;33m(\u001b[0m\u001b[0mby\u001b[0m\u001b[1;33m=\u001b[0m\u001b[0mBy\u001b[0m\u001b[1;33m.\u001b[0m\u001b[0mXPATH\u001b[0m\u001b[1;33m,\u001b[0m \u001b[0mvalue\u001b[0m\u001b[1;33m=\u001b[0m\u001b[0mxpath\u001b[0m\u001b[1;33m)\u001b[0m\u001b[1;33m\u001b[0m\u001b[1;33m\u001b[0m\u001b[0m\n\u001b[0m\u001b[0;32m    395\u001b[0m \u001b[1;33m\u001b[0m\u001b[0m\n\u001b[0;32m    396\u001b[0m     \u001b[1;32mdef\u001b[0m \u001b[0mfind_elements_by_xpath\u001b[0m\u001b[1;33m(\u001b[0m\u001b[0mself\u001b[0m\u001b[1;33m,\u001b[0m \u001b[0mxpath\u001b[0m\u001b[1;33m)\u001b[0m\u001b[1;33m:\u001b[0m\u001b[1;33m\u001b[0m\u001b[1;33m\u001b[0m\u001b[0m\n",
      "\u001b[1;32mC:\\ProgramData\\Anaconda3\\lib\\site-packages\\selenium\\webdriver\\remote\\webdriver.py\u001b[0m in \u001b[0;36mfind_element\u001b[1;34m(self, by, value)\u001b[0m\n\u001b[0;32m    976\u001b[0m         return self.execute(Command.FIND_ELEMENT, {\n\u001b[0;32m    977\u001b[0m             \u001b[1;34m'using'\u001b[0m\u001b[1;33m:\u001b[0m \u001b[0mby\u001b[0m\u001b[1;33m,\u001b[0m\u001b[1;33m\u001b[0m\u001b[1;33m\u001b[0m\u001b[0m\n\u001b[1;32m--> 978\u001b[1;33m             'value': value})['value']\n\u001b[0m\u001b[0;32m    979\u001b[0m \u001b[1;33m\u001b[0m\u001b[0m\n\u001b[0;32m    980\u001b[0m     \u001b[1;32mdef\u001b[0m \u001b[0mfind_elements\u001b[0m\u001b[1;33m(\u001b[0m\u001b[0mself\u001b[0m\u001b[1;33m,\u001b[0m \u001b[0mby\u001b[0m\u001b[1;33m=\u001b[0m\u001b[0mBy\u001b[0m\u001b[1;33m.\u001b[0m\u001b[0mID\u001b[0m\u001b[1;33m,\u001b[0m \u001b[0mvalue\u001b[0m\u001b[1;33m=\u001b[0m\u001b[1;32mNone\u001b[0m\u001b[1;33m)\u001b[0m\u001b[1;33m:\u001b[0m\u001b[1;33m\u001b[0m\u001b[1;33m\u001b[0m\u001b[0m\n",
      "\u001b[1;32mC:\\ProgramData\\Anaconda3\\lib\\site-packages\\selenium\\webdriver\\remote\\webdriver.py\u001b[0m in \u001b[0;36mexecute\u001b[1;34m(self, driver_command, params)\u001b[0m\n\u001b[0;32m    319\u001b[0m         \u001b[0mresponse\u001b[0m \u001b[1;33m=\u001b[0m \u001b[0mself\u001b[0m\u001b[1;33m.\u001b[0m\u001b[0mcommand_executor\u001b[0m\u001b[1;33m.\u001b[0m\u001b[0mexecute\u001b[0m\u001b[1;33m(\u001b[0m\u001b[0mdriver_command\u001b[0m\u001b[1;33m,\u001b[0m \u001b[0mparams\u001b[0m\u001b[1;33m)\u001b[0m\u001b[1;33m\u001b[0m\u001b[1;33m\u001b[0m\u001b[0m\n\u001b[0;32m    320\u001b[0m         \u001b[1;32mif\u001b[0m \u001b[0mresponse\u001b[0m\u001b[1;33m:\u001b[0m\u001b[1;33m\u001b[0m\u001b[1;33m\u001b[0m\u001b[0m\n\u001b[1;32m--> 321\u001b[1;33m             \u001b[0mself\u001b[0m\u001b[1;33m.\u001b[0m\u001b[0merror_handler\u001b[0m\u001b[1;33m.\u001b[0m\u001b[0mcheck_response\u001b[0m\u001b[1;33m(\u001b[0m\u001b[0mresponse\u001b[0m\u001b[1;33m)\u001b[0m\u001b[1;33m\u001b[0m\u001b[1;33m\u001b[0m\u001b[0m\n\u001b[0m\u001b[0;32m    322\u001b[0m             response['value'] = self._unwrap_value(\n\u001b[0;32m    323\u001b[0m                 response.get('value', None))\n",
      "\u001b[1;32mC:\\ProgramData\\Anaconda3\\lib\\site-packages\\selenium\\webdriver\\remote\\errorhandler.py\u001b[0m in \u001b[0;36mcheck_response\u001b[1;34m(self, response)\u001b[0m\n\u001b[0;32m    240\u001b[0m                 \u001b[0malert_text\u001b[0m \u001b[1;33m=\u001b[0m \u001b[0mvalue\u001b[0m\u001b[1;33m[\u001b[0m\u001b[1;34m'alert'\u001b[0m\u001b[1;33m]\u001b[0m\u001b[1;33m.\u001b[0m\u001b[0mget\u001b[0m\u001b[1;33m(\u001b[0m\u001b[1;34m'text'\u001b[0m\u001b[1;33m)\u001b[0m\u001b[1;33m\u001b[0m\u001b[1;33m\u001b[0m\u001b[0m\n\u001b[0;32m    241\u001b[0m             \u001b[1;32mraise\u001b[0m \u001b[0mexception_class\u001b[0m\u001b[1;33m(\u001b[0m\u001b[0mmessage\u001b[0m\u001b[1;33m,\u001b[0m \u001b[0mscreen\u001b[0m\u001b[1;33m,\u001b[0m \u001b[0mstacktrace\u001b[0m\u001b[1;33m,\u001b[0m \u001b[0malert_text\u001b[0m\u001b[1;33m)\u001b[0m\u001b[1;33m\u001b[0m\u001b[1;33m\u001b[0m\u001b[0m\n\u001b[1;32m--> 242\u001b[1;33m         \u001b[1;32mraise\u001b[0m \u001b[0mexception_class\u001b[0m\u001b[1;33m(\u001b[0m\u001b[0mmessage\u001b[0m\u001b[1;33m,\u001b[0m \u001b[0mscreen\u001b[0m\u001b[1;33m,\u001b[0m \u001b[0mstacktrace\u001b[0m\u001b[1;33m)\u001b[0m\u001b[1;33m\u001b[0m\u001b[1;33m\u001b[0m\u001b[0m\n\u001b[0m\u001b[0;32m    243\u001b[0m \u001b[1;33m\u001b[0m\u001b[0m\n\u001b[0;32m    244\u001b[0m     \u001b[1;32mdef\u001b[0m \u001b[0m_value_or_default\u001b[0m\u001b[1;33m(\u001b[0m\u001b[0mself\u001b[0m\u001b[1;33m,\u001b[0m \u001b[0mobj\u001b[0m\u001b[1;33m,\u001b[0m \u001b[0mkey\u001b[0m\u001b[1;33m,\u001b[0m \u001b[0mdefault\u001b[0m\u001b[1;33m)\u001b[0m\u001b[1;33m:\u001b[0m\u001b[1;33m\u001b[0m\u001b[1;33m\u001b[0m\u001b[0m\n",
      "\u001b[1;31mNoSuchElementException\u001b[0m: Message: no such element: Unable to locate element: {\"method\":\"xpath\",\"selector\":\"//*[@id=\"wrap\"]/div[3]/yelp-react-root/div/div[3]/div/div/div[2]/div/div[1]/div[2]/section[2]/div[2]/div/div[4]/div[1]/div/div[11]/span/a\"}\n  (Session info: headless chrome=88.0.4324.150)\n"
     ]
    }
   ],
   "source": [
    "for airline in links.keys():\n",
    "    df = extract_comments(driver, links[airline], 5)\n",
    "    df['airline'] = airline\n",
    "    df.columns = ['review', 'airline']\n",
    "    df.to_csv('yelp_' + airline + '.csv', sep='|')"
   ]
  },
  {
   "cell_type": "code",
   "execution_count": 34,
   "metadata": {},
   "outputs": [],
   "source": [
    "driver.quit()"
   ]
  },
  {
   "cell_type": "code",
   "execution_count": null,
   "metadata": {},
   "outputs": [],
   "source": []
  }
 ]
}