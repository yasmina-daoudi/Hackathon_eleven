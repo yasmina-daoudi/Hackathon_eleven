{
 "metadata": {
  "language_info": {
   "codemirror_mode": {
    "name": "ipython",
    "version": 3
   },
   "file_extension": ".py",
   "mimetype": "text/x-python",
   "name": "python",
   "nbconvert_exporter": "python",
   "pygments_lexer": "ipython3",
   "version": "3.7.4-final"
  },
  "orig_nbformat": 2,
  "kernelspec": {
   "name": "python3",
   "display_name": "Python 3",
   "language": "python"
  }
 },
 "nbformat": 4,
 "nbformat_minor": 2,
 "cells": [
  {
   "cell_type": "code",
   "execution_count": 35,
   "metadata": {},
   "outputs": [],
   "source": [
    "import time\n",
    "from selenium import webdriver\n",
    "from selenium.webdriver.chrome.options import Options\n",
    "import pandas as pd\n",
    "\n",
    "\n",
    "options = Options()\n",
    "options.headless = True\n",
    "options.add_argument(\"--window-size=1920,1200\")\n",
    "\n",
    "driver = webdriver.Chrome(options=options, executable_path='C:/Code/chromedriver/chromedriver.exe')"
   ]
  },
  {
   "cell_type": "code",
   "execution_count": 36,
   "metadata": {},
   "outputs": [],
   "source": [
    "def get_reviews(driver):\n",
    "    comments = driver.find_elements_by_xpath('//*[@id=\"wrap\"]/div[3]/yelp-react-root/div/div[3]/div/div/div[2]/div/div[1]/div[2]/section[2]/div[2]/div/ul/li[@*]/div/div[3]/p/span')\n",
    "\n",
    "    comments_text = []\n",
    "    for comment in comments:\n",
    "        comments_text.append(comment.text)\n",
    "\n",
    "    return comments_text"
   ]
  },
  {
   "cell_type": "code",
   "execution_count": 37,
   "metadata": {},
   "outputs": [],
   "source": [
    "def extract_comments(driver, link, num_pages):\n",
    "    driver.get(link);\n",
    "    time.sleep(3) \n",
    "    \n",
    "    csv = pd.DataFrame(get_reviews(driver))\n",
    "\n",
    "    for i in range(num_pages-1):\n",
    "        button = driver.find_element_by_xpath('//*[@id=\"wrap\"]/div[3]/yelp-react-root/div/div[3]/div/div/div[2]/div/div[1]/div[2]/section[2]/div[2]/div/div[4]/div[1]/div/div[11]/span/a')\n",
    "        button.click()\n",
    "\n",
    "        time.sleep(2)\n",
    "\n",
    "        csv_new_page = pd.DataFrame(get_reviews(driver))\n",
    "        csv = pd.concat([csv, csv_new_page], ignore_index=True)\n",
    "    \n",
    "    return csv"
   ]
  },
  {
   "cell_type": "code",
   "execution_count": 39,
   "metadata": {},
   "outputs": [],
   "source": [
    "links = {\n",
    "    'air-france': 'https://www.yelp.com/biz/air-france-san-francisco', \n",
    "     #'hop': '',\n",
    "    'klm-royal-dutch-airlines': 'https://www.yelp.com/biz/klm-royal-dutch-airlines-amstelveen',\n",
    "     #'transavia': '',\n",
    "    'lufthansa': 'https://www.yelp.com/biz/lufthansa-frankfurt-am-main-3',\n",
    "    #'swiss-international-air-lines': '',\n",
    "    'ryanair': 'https://www.yelp.com/biz/ryanair-dublin',\n",
    "    'easyjet': 'https://www.yelp.com/biz/easyjet-luton',\n",
    "    'british-airways': 'https://www.yelp.com/biz/british-airways-west-drayton',\n",
    "    #'iberia': '',\n",
    "    'vueling-airlines': 'https://www.yelp.com/biz/vueling-barcelona',\n",
    "    #'level': '',\n",
    "    'singapore-airlines': 'https://www.yelp.com/biz/singapore-airlines-san-francisco-7',\n",
    "    #'qatar-airways': '',\n",
    "    #'emirates': '',\n",
    "    'american-airlines': 'https://www.yelp.com/biz/american-airlines-los-angeles-5',\n",
    "    'united': 'https://www.yelp.com/biz/united-airlines-los-angeles-5',\n",
    "    'southwest' : 'https://www.yelp.com/biz/southwest-airlines-chicago-2'\n",
    "}"
   ]
  },
  {
   "cell_type": "code",
   "execution_count": 41,
   "metadata": {},
   "outputs": [
    {
     "output_type": "execute_result",
     "data": {
      "text/plain": [
       "                                                    0\n",
       "0   Very average in flight service, no difference ...\n",
       "1   Ghetto. Absolutely trash. Do not book with air...\n",
       "2   The review is for incompetence of call center ...\n",
       "3   We upgraded two seats to business class and wh...\n",
       "4   I have been trying to get a refund for over 3 ...\n",
       "5   I am convinced that Air France \"customer care\"...\n",
       "6   Flew business from SF to Paris. It was a small...\n",
       "7   Beware of flying 777-300's from Paris to SFO, ...\n",
       "8   NEVER EVER FLY WITH THIS TERRIBLE AIRLINE!! Th...\n",
       "9   The worst airlines ever. Systems are always do...\n",
       "10  Alan and I flew Air France Business Class yest...\n",
       "11  Air France, I want you to know that you have b...\n",
       "12  Air France delayed us by a day for our flight,...\n",
       "13  After choosing our vacation flights, times com...\n",
       "14  I am beyond disappointed and mad with my last ...\n",
       "15  WOW does this airline suck. They lost our lugg...\n",
       "16  This is the worst airline in the world!\\nDue t...\n",
       "17  They will lose your baggage. They will mess up...\n",
       "18  Air France does not even deserve 1 star! I fle...\n",
       "19  After flying KLM from SFO to DEL, I had the sa...\n",
       "20  This is absolutely a horrible experience for o...\n",
       "21  HORRIBLE EXPERIENCE!\\nBusiness class flight fr...\n",
       "22  8 hour international flight delay, involuntary...\n",
       "23  I booked with Delta expecting Air France to be...\n",
       "24  The WORST customer service I have ever experie...\n",
       "25  I kept seeing a pop up on my screen, Papeete t...\n",
       "26  Very horrible customer service. I wouldn't try...\n",
       "27  My husband and I were headed on our honeymoon,...\n",
       "28  Terrible customer service from check in to bag...\n",
       "29  Flew a Boeing 777/200 from Paris to Atlanta.\\n...\n",
       "30  Good food and service in the plane, especially..."
      ],
      "text/html": "<div>\n<style scoped>\n    .dataframe tbody tr th:only-of-type {\n        vertical-align: middle;\n    }\n\n    .dataframe tbody tr th {\n        vertical-align: top;\n    }\n\n    .dataframe thead th {\n        text-align: right;\n    }\n</style>\n<table border=\"1\" class=\"dataframe\">\n  <thead>\n    <tr style=\"text-align: right;\">\n      <th></th>\n      <th>0</th>\n    </tr>\n  </thead>\n  <tbody>\n    <tr>\n      <th>0</th>\n      <td>Very average in flight service, no difference ...</td>\n    </tr>\n    <tr>\n      <th>1</th>\n      <td>Ghetto. Absolutely trash. Do not book with air...</td>\n    </tr>\n    <tr>\n      <th>2</th>\n      <td>The review is for incompetence of call center ...</td>\n    </tr>\n    <tr>\n      <th>3</th>\n      <td>We upgraded two seats to business class and wh...</td>\n    </tr>\n    <tr>\n      <th>4</th>\n      <td>I have been trying to get a refund for over 3 ...</td>\n    </tr>\n    <tr>\n      <th>5</th>\n      <td>I am convinced that Air France \"customer care\"...</td>\n    </tr>\n    <tr>\n      <th>6</th>\n      <td>Flew business from SF to Paris. It was a small...</td>\n    </tr>\n    <tr>\n      <th>7</th>\n      <td>Beware of flying 777-300's from Paris to SFO, ...</td>\n    </tr>\n    <tr>\n      <th>8</th>\n      <td>NEVER EVER FLY WITH THIS TERRIBLE AIRLINE!! Th...</td>\n    </tr>\n    <tr>\n      <th>9</th>\n      <td>The worst airlines ever. Systems are always do...</td>\n    </tr>\n    <tr>\n      <th>10</th>\n      <td>Alan and I flew Air France Business Class yest...</td>\n    </tr>\n    <tr>\n      <th>11</th>\n      <td>Air France, I want you to know that you have b...</td>\n    </tr>\n    <tr>\n      <th>12</th>\n      <td>Air France delayed us by a day for our flight,...</td>\n    </tr>\n    <tr>\n      <th>13</th>\n      <td>After choosing our vacation flights, times com...</td>\n    </tr>\n    <tr>\n      <th>14</th>\n      <td>I am beyond disappointed and mad with my last ...</td>\n    </tr>\n    <tr>\n      <th>15</th>\n      <td>WOW does this airline suck. They lost our lugg...</td>\n    </tr>\n    <tr>\n      <th>16</th>\n      <td>This is the worst airline in the world!\\nDue t...</td>\n    </tr>\n    <tr>\n      <th>17</th>\n      <td>They will lose your baggage. They will mess up...</td>\n    </tr>\n    <tr>\n      <th>18</th>\n      <td>Air France does not even deserve 1 star! I fle...</td>\n    </tr>\n    <tr>\n      <th>19</th>\n      <td>After flying KLM from SFO to DEL, I had the sa...</td>\n    </tr>\n    <tr>\n      <th>20</th>\n      <td>This is absolutely a horrible experience for o...</td>\n    </tr>\n    <tr>\n      <th>21</th>\n      <td>HORRIBLE EXPERIENCE!\\nBusiness class flight fr...</td>\n    </tr>\n    <tr>\n      <th>22</th>\n      <td>8 hour international flight delay, involuntary...</td>\n    </tr>\n    <tr>\n      <th>23</th>\n      <td>I booked with Delta expecting Air France to be...</td>\n    </tr>\n    <tr>\n      <th>24</th>\n      <td>The WORST customer service I have ever experie...</td>\n    </tr>\n    <tr>\n      <th>25</th>\n      <td>I kept seeing a pop up on my screen, Papeete t...</td>\n    </tr>\n    <tr>\n      <th>26</th>\n      <td>Very horrible customer service. I wouldn't try...</td>\n    </tr>\n    <tr>\n      <th>27</th>\n      <td>My husband and I were headed on our honeymoon,...</td>\n    </tr>\n    <tr>\n      <th>28</th>\n      <td>Terrible customer service from check in to bag...</td>\n    </tr>\n    <tr>\n      <th>29</th>\n      <td>Flew a Boeing 777/200 from Paris to Atlanta.\\n...</td>\n    </tr>\n    <tr>\n      <th>30</th>\n      <td>Good food and service in the plane, especially...</td>\n    </tr>\n  </tbody>\n</table>\n</div>"
     },
     "metadata": {},
     "execution_count": 41
    }
   ],
   "source": [
    "df = extract_comments(driver, links['air-france'], 2)\n",
    "\n",
    "df"
   ]
  },
  {
   "cell_type": "code",
   "execution_count": 34,
   "metadata": {},
   "outputs": [],
   "source": [
    "driver.quit()"
   ]
  },
  {
   "cell_type": "code",
   "execution_count": null,
   "metadata": {},
   "outputs": [],
   "source": []
  }
 ]
}