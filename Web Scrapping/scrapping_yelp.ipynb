{
 "metadata": {
  "language_info": {
   "codemirror_mode": {
    "name": "ipython",
    "version": 3
   },
   "file_extension": ".py",
   "mimetype": "text/x-python",
   "name": "python",
   "nbconvert_exporter": "python",
   "pygments_lexer": "ipython3",
   "version": "3.7.4-final"
  },
  "orig_nbformat": 2,
  "kernelspec": {
   "name": "python3",
   "display_name": "Python 3",
   "language": "python"
  }
 },
 "nbformat": 4,
 "nbformat_minor": 2,
 "cells": [
  {
   "cell_type": "code",
   "execution_count": 2,
   "metadata": {},
   "outputs": [],
   "source": [
    "import time\n",
    "from selenium import webdriver\n",
    "from selenium.webdriver.chrome.options import Options\n",
    "import pandas as pd\n",
    "\n",
    "\n",
    "options = Options()\n",
    "options.headless = True\n",
    "options.add_argument(\"--window-size=1920,1200\")\n",
    "\n",
    "driver = webdriver.Chrome(options=options, executable_path='C:/Code/chromedriver/chromedriver.exe')"
   ]
  },
  {
   "cell_type": "code",
   "execution_count": 3,
   "metadata": {},
   "outputs": [],
   "source": [
    "def get_reviews(driver):\n",
    "    comments = driver.find_elements_by_xpath('//*[@id=\"wrap\"]/div[3]/yelp-react-root/div/div[3]/div/div/div[2]/div/div[1]/div[2]/section[2]/div[2]/div/ul/li[@*]/div/div[3]/p/span')\n",
    "\n",
    "    comments_text = []\n",
    "    for comment in comments:\n",
    "        comments_text.append(comment.text)\n",
    "\n",
    "    return comments_text"
   ]
  },
  {
   "cell_type": "code",
   "execution_count": 14,
   "metadata": {},
   "outputs": [],
   "source": [
    "def extract_comments(driver, num_pages):\n",
    "    driver.get('https://www.yelp.com/biz/united-airlines-los-angeles-5?sort_by=date_desc');\n",
    "    time.sleep(3) \n",
    "    \n",
    "    csv = pd.DataFrame(get_reviews(driver))\n",
    "\n",
    "    for i in range(num_pages-1):\n",
    "        button = driver.find_element_by_xpath('//*[@id=\"wrap\"]/div[3]/yelp-react-root/div/div[3]/div/div/div[2]/div/div[1]/div[2]/section[2]/div[2]/div/div[4]/div[1]/div/div[11]/span/a')\n",
    "        button.click()\n",
    "\n",
    "        time.sleep(2)\n",
    "\n",
    "        csv_new_page = pd.DataFrame(get_reviews(driver))\n",
    "        csv = pd.concat([csv, csv_new_page], ignore_index=True)\n",
    "    \n",
    "    return csv"
   ]
  },
  {
   "cell_type": "code",
   "execution_count": 15,
   "metadata": {},
   "outputs": [],
   "source": [
    "df = extract_comments(driver, 5)"
   ]
  },
  {
   "cell_type": "code",
   "execution_count": 22,
   "metadata": {},
   "outputs": [
    {
     "output_type": "execute_result",
     "data": {
      "text/plain": [
       "                                                    0\n",
       "0   I want to say that I don't know if what these ...\n",
       "1   12/29/2020 Terrible delay on flight 1887 from ...\n",
       "2   Shame on you United Airlines! You charged me $...\n",
       "3   Worst airline experience of my life! I'll neve...\n",
       "4   I would think in a global Pandemic they would ...\n",
       "..                                                ...\n",
       "83  I've had the misfortune of flying United 3 tim...\n",
       "84  If I could give negative stars it would be app...\n",
       "85  The flight was delayed for 3 hours and we didn...\n",
       "86  Avoid at all costs.\\nDisgusting company:\\nUnhe...\n",
       "87  Can I put negative stars. This airline has to ...\n",
       "\n",
       "[88 rows x 1 columns]"
      ],
      "text/html": "<div>\n<style scoped>\n    .dataframe tbody tr th:only-of-type {\n        vertical-align: middle;\n    }\n\n    .dataframe tbody tr th {\n        vertical-align: top;\n    }\n\n    .dataframe thead th {\n        text-align: right;\n    }\n</style>\n<table border=\"1\" class=\"dataframe\">\n  <thead>\n    <tr style=\"text-align: right;\">\n      <th></th>\n      <th>0</th>\n    </tr>\n  </thead>\n  <tbody>\n    <tr>\n      <th>0</th>\n      <td>I want to say that I don't know if what these ...</td>\n    </tr>\n    <tr>\n      <th>1</th>\n      <td>12/29/2020 Terrible delay on flight 1887 from ...</td>\n    </tr>\n    <tr>\n      <th>2</th>\n      <td>Shame on you United Airlines! You charged me $...</td>\n    </tr>\n    <tr>\n      <th>3</th>\n      <td>Worst airline experience of my life! I'll neve...</td>\n    </tr>\n    <tr>\n      <th>4</th>\n      <td>I would think in a global Pandemic they would ...</td>\n    </tr>\n    <tr>\n      <th>...</th>\n      <td>...</td>\n    </tr>\n    <tr>\n      <th>83</th>\n      <td>I've had the misfortune of flying United 3 tim...</td>\n    </tr>\n    <tr>\n      <th>84</th>\n      <td>If I could give negative stars it would be app...</td>\n    </tr>\n    <tr>\n      <th>85</th>\n      <td>The flight was delayed for 3 hours and we didn...</td>\n    </tr>\n    <tr>\n      <th>86</th>\n      <td>Avoid at all costs.\\nDisgusting company:\\nUnhe...</td>\n    </tr>\n    <tr>\n      <th>87</th>\n      <td>Can I put negative stars. This airline has to ...</td>\n    </tr>\n  </tbody>\n</table>\n<p>88 rows × 1 columns</p>\n</div>"
     },
     "metadata": {},
     "execution_count": 22
    }
   ],
   "source": [
    "df"
   ]
  },
  {
   "cell_type": "code",
   "execution_count": 23,
   "metadata": {},
   "outputs": [],
   "source": [
    "driver.quit()"
   ]
  }
 ]
}